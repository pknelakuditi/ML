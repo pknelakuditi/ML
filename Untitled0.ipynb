{
 "metadata": {
  "name": "",
  "signature": "sha256:cb59652c9dfbc99f4a2967a1f1f15896a69fc52755c815066e2056014eb48be3"
 },
 "nbformat": 3,
 "nbformat_minor": 0,
 "worksheets": [
  {
   "cells": [
    {
     "cell_type": "code",
     "collapsed": false,
     "input": [
      "from sklearn import svm, grid_search, datasets\n",
      "digits = datasets.load_digits()\n",
      "parameters = {'kernel':('linear', 'rbf'), 'C':[1, 10]}\n",
      "svr = svm.SVC()\n",
      "clf = grid_search.GridSearchCV(svr, parameters)\n",
      "#print clf\n",
      "clf.fit(digits.data, digits.target)\n",
      "print clf.grid_scores_\n",
      "print \"---------------\"\n",
      "print clf.best_estimator_\n",
      "print clf.best_params_\n",
      "print clf.score(digits.data, digits.target)"
     ],
     "language": "python",
     "metadata": {},
     "outputs": [
      {
       "output_type": "stream",
       "stream": "stdout",
       "text": [
        "[mean: 0.98164, std: 0.00136, params: {'kernel': 'linear', 'C': 1}, mean: 0.55815, std: 0.00615, params: {'kernel': 'rbf', 'C': 1}, mean: 0.98164, std: 0.00136, params: {'kernel': 'linear', 'C': 10}, mean: 0.59488, std: 0.00833, params: {'kernel': 'rbf', 'C': 10}]\n",
        "---------------\n",
        "SVC(C=1, cache_size=200, class_weight=None, coef0=0.0, degree=3, gamma=0.0,\n",
        "  kernel=linear, max_iter=-1, probability=False, random_state=None,\n",
        "  shrinking=True, tol=0.001, verbose=False)\n",
        "{'kernel': 'linear', 'C': 1}\n",
        "1.0"
       ]
      },
      {
       "output_type": "stream",
       "stream": "stdout",
       "text": [
        "\n"
       ]
      }
     ],
     "prompt_number": 1
    },
    {
     "cell_type": "code",
     "collapsed": false,
     "input": [
      "from __future__ import print_function\n",
      "\n",
      "from sklearn import datasets\n",
      "from sklearn.cross_validation import train_test_split\n",
      "from sklearn.grid_search import GridSearchCV\n",
      "from sklearn.metrics import classification_report\n",
      "from sklearn.svm import SVC\n",
      "\n",
      "print(__doc__)\n",
      "\"\"\"hi\"\"\"\n",
      "# Loading the Digits dataset\n",
      "digits = datasets.load_digits()\n",
      "\n",
      "# To apply an classifier on this data, we need to flatten the image, to\n",
      "# turn the data in a (samples, feature) matrix:\n",
      "n_samples = len(digits.images)\n",
      "X = digits.images.reshape((n_samples, -1))\n",
      "y = digits.target\n",
      "\n",
      "# Split the dataset in two equal parts\n",
      "X_train, X_test, y_train, y_test = train_test_split(\n",
      "    X, y, test_size=0.1, random_state=0)\n",
      "\n",
      "# Set the parameters by cross-validation\n",
      "tuned_parameters = [{'kernel': ['rbf'], 'gamma': [1e-3, 1e-4],\n",
      "                     'C': [1, 10, 100, 1000]},\n",
      "                    {'kernel': ['linear'], 'C': [1, 10, 100, 1000]}]\n",
      "\n",
      "scores = ['precision', 'recall']\n",
      "\n",
      "for score in scores:\n",
      "    print(\"# Tuning hyper-parameters for %s\" % score)\n",
      "    print()\n",
      "\n",
      "    clf = GridSearchCV(SVC(C=1), tuned_parameters, cv=5, scoring=score)\n",
      "    clf.fit(X_train, y_train)\n",
      "\n",
      "    print(\"Best parameters set found on development set:\")\n",
      "    print()\n",
      "    print(clf.best_estimator_)\n",
      "    print()\n",
      "    print(\"Grid scores on development set:\")\n",
      "    print()\n",
      "    for params, mean_score, scores in clf.grid_scores_:\n",
      "        print(\"%0.3f (+/-%0.03f) for %r\"\n",
      "              % (mean_score, scores.std() / 2, params))\n",
      "    print()\n",
      "\n",
      "    print(\"Detailed classification report:\")\n",
      "    print()\n",
      "    print(\"The model is trained on the full development set.\")\n",
      "    print(\"The scores are computed on the full evaluation set.\")\n",
      "    print()\n",
      "    y_true, y_pred = y_test, clf.predict(X_test)\n",
      "    print(classification_report(y_true, y_pred))\n",
      "    print()"
     ],
     "language": "python",
     "metadata": {},
     "outputs": [
      {
       "output_type": "stream",
       "stream": "stdout",
       "text": [
        "Automatically created module for IPython interactive environment\n",
        "# Tuning hyper-parameters for precision"
       ]
      },
      {
       "output_type": "stream",
       "stream": "stdout",
       "text": [
        "\n",
        "\n",
        "Best parameters set found on development set:"
       ]
      },
      {
       "output_type": "stream",
       "stream": "stdout",
       "text": [
        "\n",
        "\n",
        "SVC(C=10, cache_size=200, class_weight=None, coef0=0.0, degree=3, gamma=0.001,\n",
        "  kernel=rbf, max_iter=-1, probability=False, random_state=None,\n",
        "  shrinking=True, tol=0.001, verbose=False)\n",
        "\n",
        "Grid scores on development set:\n",
        "\n",
        "0.990 (+/-0.003) for {'kernel': 'rbf', 'C': 1, 'gamma': 0.001}\n",
        "0.971 (+/-0.005) for {'kernel': 'rbf', 'C': 1, 'gamma': 0.0001}\n",
        "0.991 (+/-0.004) for {'kernel': 'rbf', 'C': 10, 'gamma': 0.001}\n",
        "0.985 (+/-0.003) for {'kernel': 'rbf', 'C': 10, 'gamma': 0.0001}\n",
        "0.991 (+/-0.004) for {'kernel': 'rbf', 'C': 100, 'gamma': 0.001}\n",
        "0.986 (+/-0.002) for {'kernel': 'rbf', 'C': 100, 'gamma': 0.0001}\n",
        "0.991 (+/-0.004) for {'kernel': 'rbf', 'C': 1000, 'gamma': 0.001}\n",
        "0.986 (+/-0.002) for {'kernel': 'rbf', 'C': 1000, 'gamma': 0.0001}\n",
        "0.977 (+/-0.003) for {'kernel': 'linear', 'C': 1}\n",
        "0.977 (+/-0.003) for {'kernel': 'linear', 'C': 10}\n",
        "0.977 (+/-0.003) for {'kernel': 'linear', 'C': 100}\n",
        "0.977 (+/-0.003) for {'kernel': 'linear', 'C': 1000}\n",
        "\n",
        "Detailed classification report:\n",
        "\n",
        "The model is trained on the full development set.\n",
        "The scores are computed on the full evaluation set.\n",
        "\n",
        "             precision    recall  f1-score   support\n",
        "\n",
        "          0       1.00      1.00      1.00        11\n",
        "          1       0.95      1.00      0.98        20\n",
        "          2       1.00      1.00      1.00        16\n",
        "          3       1.00      1.00      1.00        10\n",
        "          4       1.00      1.00      1.00        10\n",
        "          5       0.95      1.00      0.98        21\n",
        "          6       1.00      1.00      1.00        25\n",
        "          7       1.00      1.00      1.00        20\n",
        "          8       1.00      0.96      0.98        23\n",
        "          9       1.00      0.96      0.98        24\n",
        "\n",
        "avg / total       0.99      0.99      0.99       180\n",
        "\n",
        "\n",
        "# Tuning hyper-parameters for recall\n",
        "\n",
        "Best parameters set found on development set:"
       ]
      },
      {
       "output_type": "stream",
       "stream": "stdout",
       "text": [
        "\n",
        "\n",
        "SVC(C=10, cache_size=200, class_weight=None, coef0=0.0, degree=3, gamma=0.001,\n",
        "  kernel=rbf, max_iter=-1, probability=False, random_state=None,\n",
        "  shrinking=True, tol=0.001, verbose=False)\n",
        "\n",
        "Grid scores on development set:\n",
        "\n",
        "0.989 (+/-0.003) for {'kernel': 'rbf', 'C': 1, 'gamma': 0.001}\n",
        "0.970 (+/-0.006) for {'kernel': 'rbf', 'C': 1, 'gamma': 0.0001}\n",
        "0.991 (+/-0.004) for {'kernel': 'rbf', 'C': 10, 'gamma': 0.001}\n",
        "0.985 (+/-0.003) for {'kernel': 'rbf', 'C': 10, 'gamma': 0.0001}\n",
        "0.991 (+/-0.004) for {'kernel': 'rbf', 'C': 100, 'gamma': 0.001}\n",
        "0.985 (+/-0.002) for {'kernel': 'rbf', 'C': 100, 'gamma': 0.0001}\n",
        "0.991 (+/-0.004) for {'kernel': 'rbf', 'C': 1000, 'gamma': 0.001}\n",
        "0.985 (+/-0.002) for {'kernel': 'rbf', 'C': 1000, 'gamma': 0.0001}\n",
        "0.976 (+/-0.003) for {'kernel': 'linear', 'C': 1}\n",
        "0.976 (+/-0.003) for {'kernel': 'linear', 'C': 10}\n",
        "0.976 (+/-0.003) for {'kernel': 'linear', 'C': 100}\n",
        "0.976 (+/-0.003) for {'kernel': 'linear', 'C': 1000}\n",
        "\n",
        "Detailed classification report:\n",
        "\n",
        "The model is trained on the full development set.\n",
        "The scores are computed on the full evaluation set.\n",
        "\n",
        "             precision    recall  f1-score   support\n",
        "\n",
        "          0       1.00      1.00      1.00        11\n",
        "          1       0.95      1.00      0.98        20\n",
        "          2       1.00      1.00      1.00        16\n",
        "          3       1.00      1.00      1.00        10\n",
        "          4       1.00      1.00      1.00        10\n",
        "          5       0.95      1.00      0.98        21\n",
        "          6       1.00      1.00      1.00        25\n",
        "          7       1.00      1.00      1.00        20\n",
        "          8       1.00      0.96      0.98        23\n",
        "          9       1.00      0.96      0.98        24\n",
        "\n",
        "avg / total       0.99      0.99      0.99       180\n",
        "\n",
        "\n"
       ]
      }
     ],
     "prompt_number": 2
    },
    {
     "cell_type": "code",
     "collapsed": false,
     "input": [
      "from sklearn.neighbors.nearest_centroid import NearestCentroid\n",
      "\n",
      "clf = NearestCentroid()"
     ],
     "language": "python",
     "metadata": {},
     "outputs": [
      {
       "output_type": "stream",
       "stream": "stdout",
       "text": [
        "hi\n",
        "None"
       ]
      },
      {
       "output_type": "stream",
       "stream": "stdout",
       "text": [
        " 0.813333333333\n",
        "0.1"
       ]
      },
      {
       "output_type": "stream",
       "stream": "stdout",
       "text": [
        " 0.826666666667\n"
       ]
      }
     ],
     "prompt_number": 6
    },
    {
     "cell_type": "code",
     "collapsed": false,
     "input": [],
     "language": "python",
     "metadata": {},
     "outputs": []
    }
   ],
   "metadata": {}
  }
 ]
}